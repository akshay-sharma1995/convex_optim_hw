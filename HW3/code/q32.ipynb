{
 "cells": [
  {
   "cell_type": "code",
   "execution_count": null,
   "metadata": {},
   "outputs": [],
   "source": [
    "import numpy as np\n",
    "import matplotlib.pyplot as plt"
   ]
  },
  {
   "cell_type": "code",
   "execution_count": null,
   "metadata": {},
   "outputs": [],
   "source": [
    "def h(t,a,b,c,d):\n",
    "    return a*np.exp(b*t) + c*np.exp(d*t)"
   ]
  },
  {
   "cell_type": "code",
   "execution_count": null,
   "metadata": {},
   "outputs": [],
   "source": [
    "def momentum_update(x0, A, eta, gamma, num_iters=200):\n",
    "    X = [x0*1.0]\n",
    "    x = x0*1.0\n",
    "    g = 0.0\n",
    "    for t in range(num_iters):\n",
    "        g = (1-gamma)*g + gamma*(2*A*x)\n",
    "        x = x - eta*g\n",
    "#         print(x)\n",
    "        X.append(x*1.0)\n",
    "    return X\n",
    "    "
   ]
  },
  {
   "cell_type": "code",
   "execution_count": null,
   "metadata": {},
   "outputs": [],
   "source": [
    "a = 1.270711\n",
    "b = -0.036617\n",
    "c = -0.207107\n",
    "d = -0.213388\n",
    "x0 = 1.0\n",
    "A = 1.0\n",
    "eta = 1/64\n",
    "gamma = 1/4\n",
    "num_iters = 200\n",
    "def h(t):\n",
    "    return a*np.exp(b*t) + c*np.exp(d*t)\n",
    "\n",
    "t = np.arange(0,200,0.01)\n",
    "H = h(t)\n",
    "X = momentum_update(x0, A, eta, gamma, num_iters)\n",
    "plt.plot(t,H,label=r'continuous estimate of $x_t$')\n",
    "plt.plot(X, label=r'True $x_t$')\n",
    "plt.xlabel(\"t\")\n",
    "plt.ylabel(r'x_t')\n",
    "plt.title(r'$x_0 = {}, a = {}, \\eta = 1/{}, \\gamma = 1/{}$'.format(x0,A,64, 4))\n",
    "plt.legend()\n",
    "plt.savefig(\"./q32_1.png\")\n",
    "plt.show()\n"
   ]
  },
  {
   "cell_type": "code",
   "execution_count": null,
   "metadata": {},
   "outputs": [],
   "source": [
    "a = 1.270711\n",
    "b = -0.036617\n",
    "c = -0.207107\n",
    "d = -0.213388\n",
    "x0 = 1.0\n",
    "A = 1.0\n",
    "eta = 1/64\n",
    "gamma = 1/8\n",
    "num_iters = 200\n",
    "def h(t):\n",
    "    return (1/16)*(np.exp(-t/16))*(t+16)\n",
    "\n",
    "t = np.arange(0,200,0.01)\n",
    "H = h(t)\n",
    "X = momentum_update(x0, A, eta, gamma, num_iters)\n",
    "plt.plot(t,H,label=r'continuous estimate of $x_t$')\n",
    "plt.plot(X, label=r'True $x_t$')\n",
    "plt.xlabel(\"t\")\n",
    "plt.ylabel(r'x_t')\n",
    "plt.title(r'$x_0 = {}, a = {}, \\eta = 1/{}, \\gamma = 1/{}$'.format(x0,A,64, 8))\n",
    "plt.legend()\n",
    "plt.savefig(\"./q32_2.png\")\n",
    "plt.show()"
   ]
  },
  {
   "cell_type": "code",
   "execution_count": null,
   "metadata": {},
   "outputs": [],
   "source": [
    "a = 1.270711\n",
    "b = -0.036617\n",
    "c = -0.207107\n",
    "d = -0.213388\n",
    "x0 = 1.0\n",
    "A = 1.0\n",
    "eta = 1/64\n",
    "gamma = 1/16\n",
    "num_iters = 200\n",
    "def h(t):\n",
    "    return np.exp(-t/32)*(np.sin(t/32) + np.cos(t/32))\n",
    "\n",
    "t = np.arange(0,200,0.01)\n",
    "H = h(t)\n",
    "X = momentum_update(x0, A, eta, gamma, num_iters)\n",
    "plt.plot(t,H,label=r'continuous estimate of $x_t$')\n",
    "plt.plot(X, label=r'True $x_t$')\n",
    "plt.xlabel(\"t\")\n",
    "plt.ylabel(r'x_t')\n",
    "plt.title(r'$x_0 = {}, a = {}, \\eta = 1/{}, \\gamma = 1/{}$'.format(x0,A,64, 16))\n",
    "plt.legend()\n",
    "plt.savefig(\"./q32_3.png\")\n",
    "plt.show()"
   ]
  },
  {
   "cell_type": "code",
   "execution_count": null,
   "metadata": {},
   "outputs": [],
   "source": [
    "a = 1.270711\n",
    "b = -0.036617\n",
    "c = -0.207107\n",
    "d = -0.213388\n",
    "x0 = 1.0\n",
    "A = 901\n",
    "eta = 1/64\n",
    "gamma = 1/16\n",
    "num_iters = 200\n",
    "def h(t):\n",
    "    return (1/30)*np.exp(-t/16)*(np.sin(15*t/8) + 30*np.cos(15*t/8))\n",
    "\n",
    "t = np.arange(0,200,0.01)\n",
    "H = h(t)\n",
    "X = momentum_update(x0, A, eta, gamma, num_iters)\n",
    "plt.plot(t,H,label=r'continuous estimate of $x_t$')\n",
    "plt.plot(X, label=r'True $x_t$')\n",
    "plt.xlabel(\"t\")\n",
    "plt.ylabel(r'x_t')\n",
    "plt.title(r'$x_0 = {}, a = {}, \\eta = 1/{}, \\gamma = 1/{}$'.format(x0,A,64, 8))\n",
    "plt.legend()\n",
    "plt.savefig(\"./q32_4.png\")\n",
    "plt.show()"
   ]
  }
 ],
 "metadata": {
  "kernelspec": {
   "display_name": "Python 3",
   "language": "python",
   "name": "python3"
  },
  "language_info": {
   "codemirror_mode": {
    "name": "ipython",
    "version": 3
   },
   "file_extension": ".py",
   "mimetype": "text/x-python",
   "name": "python",
   "nbconvert_exporter": "python",
   "pygments_lexer": "ipython3",
   "version": "3.5.9"
  }
 },
 "nbformat": 4,
 "nbformat_minor": 4
}
